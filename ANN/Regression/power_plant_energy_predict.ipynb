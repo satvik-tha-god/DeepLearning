{
  "nbformat": 4,
  "nbformat_minor": 0,
  "metadata": {
    "colab": {
      "name": "power_plant_energy_predict",
      "provenance": [],
      "collapsed_sections": []
    },
    "kernelspec": {
      "name": "python3",
      "display_name": "Python 3"
    }
  },
  "cells": [
    {
      "cell_type": "markdown",
      "metadata": {
        "id": "3cbb7fRy-eyr"
      },
      "source": [
        "# Artificial Neural Network"
      ]
    },
    {
      "cell_type": "markdown",
      "metadata": {
        "id": "8sNDnxE2-pwE"
      },
      "source": [
        "### Importing the libraries"
      ]
    },
    {
      "cell_type": "code",
      "metadata": {
        "id": "dV0Bi0FR5BQg"
      },
      "source": [
        "import numpy as np\n",
        "import pandas as pd\n",
        "import tensorflow as tf"
      ],
      "execution_count": null,
      "outputs": []
    },
    {
      "cell_type": "code",
      "metadata": {
        "colab": {
          "base_uri": "https://localhost:8080/",
          "height": 35
        },
        "id": "kVgu4j9j5WQR",
        "outputId": "753fa4ae-d340-446c-896a-07a059e9101b"
      },
      "source": [
        "tf.__version__"
      ],
      "execution_count": null,
      "outputs": [
        {
          "output_type": "execute_result",
          "data": {
            "application/vnd.google.colaboratory.intrinsic+json": {
              "type": "string"
            },
            "text/plain": [
              "'2.6.0'"
            ]
          },
          "metadata": {},
          "execution_count": 3
        }
      ]
    },
    {
      "cell_type": "markdown",
      "metadata": {
        "id": "AG3FQEch-yuA"
      },
      "source": [
        "## Part 1 - Data Preprocessing"
      ]
    },
    {
      "cell_type": "markdown",
      "metadata": {
        "id": "-4zq8Mza_D9O"
      },
      "source": [
        "### Importing the dataset"
      ]
    },
    {
      "cell_type": "code",
      "metadata": {
        "id": "IPTfjySq6Eyb"
      },
      "source": [
        "dataset = pd.read_excel('Folds5x2_pp.xlsx')\n",
        "X = dataset.iloc[:, :-1].values\n",
        "y = dataset.iloc[:, -1].values"
      ],
      "execution_count": null,
      "outputs": []
    },
    {
      "cell_type": "markdown",
      "metadata": {
        "id": "VC6omXel_Up0"
      },
      "source": [
        "### Splitting the dataset into the Training set and Test set"
      ]
    },
    {
      "cell_type": "code",
      "metadata": {
        "id": "T_lmC3pQ7803"
      },
      "source": [
        "from sklearn.model_selection import train_test_split\n",
        "X_train, X_test, y_train, y_test = train_test_split(X, y, test_size = 0.2, random_state=0)"
      ],
      "execution_count": null,
      "outputs": []
    },
    {
      "cell_type": "markdown",
      "metadata": {
        "id": "_mSLlAT9_eyI"
      },
      "source": [
        "## Part 2 - Building the ANN"
      ]
    },
    {
      "cell_type": "markdown",
      "metadata": {
        "id": "CsBULd_f_wLY"
      },
      "source": [
        "### Initializing the ANN"
      ]
    },
    {
      "cell_type": "code",
      "metadata": {
        "id": "5FPbHWPP9sBv"
      },
      "source": [
        "ann = tf.keras.models.Sequential()"
      ],
      "execution_count": null,
      "outputs": []
    },
    {
      "cell_type": "markdown",
      "metadata": {
        "id": "iitAFJS_ABUn"
      },
      "source": [
        "### Adding the input layer and the first hidden layer"
      ]
    },
    {
      "cell_type": "code",
      "metadata": {
        "id": "4IrLuaC1-XzO"
      },
      "source": [
        "ann.add(tf.keras.layers.Dense(units = 6, activation = 'relu'))"
      ],
      "execution_count": null,
      "outputs": []
    },
    {
      "cell_type": "markdown",
      "metadata": {
        "id": "-lb4kK_wAKbs"
      },
      "source": [
        "### Adding the second hidden layer"
      ]
    },
    {
      "cell_type": "code",
      "metadata": {
        "id": "33ASI0dx_b7n"
      },
      "source": [
        "ann.add(tf.keras.layers.Dense(units = 6, activation = 'relu'))"
      ],
      "execution_count": null,
      "outputs": []
    },
    {
      "cell_type": "markdown",
      "metadata": {
        "id": "jwMOmKb3AdBY"
      },
      "source": [
        "### Adding the output layer"
      ]
    },
    {
      "cell_type": "code",
      "metadata": {
        "id": "q9qo9Qpx_k09"
      },
      "source": [
        "ann.add(tf.keras.layers.Dense(units = 1))"
      ],
      "execution_count": null,
      "outputs": []
    },
    {
      "cell_type": "markdown",
      "metadata": {
        "id": "fq7e4fF6A1yy"
      },
      "source": [
        "## Part 3 - Training the ANN"
      ]
    },
    {
      "cell_type": "markdown",
      "metadata": {
        "id": "qDeylAs2An25"
      },
      "source": [
        "### Compiling the ANN"
      ]
    },
    {
      "cell_type": "code",
      "metadata": {
        "id": "WQGjVIVUAqNG"
      },
      "source": [
        "ann.compile(optimizer= 'adam', loss = 'mean_squared_error')"
      ],
      "execution_count": null,
      "outputs": []
    },
    {
      "cell_type": "markdown",
      "metadata": {
        "id": "YjVuiybYOo7r"
      },
      "source": [
        "### Training the ANN model on the Training set"
      ]
    },
    {
      "cell_type": "code",
      "metadata": {
        "colab": {
          "base_uri": "https://localhost:8080/"
        },
        "id": "pd6uwKJRBOHa",
        "outputId": "becae46a-6642-4b8f-9592-fedc10ebe60d"
      },
      "source": [
        "ann.fit(X_train,y_train,batch_size=32, epochs=100)"
      ],
      "execution_count": null,
      "outputs": [
        {
          "output_type": "stream",
          "name": "stdout",
          "text": [
            "Epoch 1/100\n",
            "240/240 [==============================] - 1s 1ms/step - loss: 333370.5312\n",
            "Epoch 2/100\n",
            "240/240 [==============================] - 0s 1ms/step - loss: 234323.6875\n",
            "Epoch 3/100\n",
            "240/240 [==============================] - 0s 1ms/step - loss: 213643.4688\n",
            "Epoch 4/100\n",
            "240/240 [==============================] - 0s 1ms/step - loss: 206209.4375\n",
            "Epoch 5/100\n",
            "240/240 [==============================] - 0s 1ms/step - loss: 205786.7812\n",
            "Epoch 6/100\n",
            "240/240 [==============================] - 0s 1ms/step - loss: 205579.3906\n",
            "Epoch 7/100\n",
            "240/240 [==============================] - 0s 1ms/step - loss: 205369.4375\n",
            "Epoch 8/100\n",
            "240/240 [==============================] - 0s 1ms/step - loss: 205157.6719\n",
            "Epoch 9/100\n",
            "240/240 [==============================] - 0s 1ms/step - loss: 204944.8594\n",
            "Epoch 10/100\n",
            "240/240 [==============================] - 0s 1ms/step - loss: 204731.1406\n",
            "Epoch 11/100\n",
            "240/240 [==============================] - 0s 1ms/step - loss: 204517.0312\n",
            "Epoch 12/100\n",
            "240/240 [==============================] - 0s 1ms/step - loss: 204302.4375\n",
            "Epoch 13/100\n",
            "240/240 [==============================] - 0s 1ms/step - loss: 204087.4531\n",
            "Epoch 14/100\n",
            "240/240 [==============================] - 0s 1ms/step - loss: 203872.3906\n",
            "Epoch 15/100\n",
            "240/240 [==============================] - 0s 1ms/step - loss: 203657.0625\n",
            "Epoch 16/100\n",
            "240/240 [==============================] - 0s 1ms/step - loss: 203441.8125\n",
            "Epoch 17/100\n",
            "240/240 [==============================] - 0s 1ms/step - loss: 203226.4688\n",
            "Epoch 18/100\n",
            "240/240 [==============================] - 0s 1ms/step - loss: 203011.1719\n",
            "Epoch 19/100\n",
            "240/240 [==============================] - 0s 1ms/step - loss: 202795.8750\n",
            "Epoch 20/100\n",
            "240/240 [==============================] - 0s 1ms/step - loss: 202580.7188\n",
            "Epoch 21/100\n",
            "240/240 [==============================] - 0s 1ms/step - loss: 202365.6250\n",
            "Epoch 22/100\n",
            "240/240 [==============================] - 0s 1ms/step - loss: 202150.3281\n",
            "Epoch 23/100\n",
            "240/240 [==============================] - 0s 1ms/step - loss: 201935.3125\n",
            "Epoch 24/100\n",
            "240/240 [==============================] - 0s 1ms/step - loss: 201720.5156\n",
            "Epoch 25/100\n",
            "240/240 [==============================] - 0s 1ms/step - loss: 201505.7188\n",
            "Epoch 26/100\n",
            "240/240 [==============================] - 0s 1ms/step - loss: 201290.7344\n",
            "Epoch 27/100\n",
            "240/240 [==============================] - 0s 1ms/step - loss: 201076.3438\n",
            "Epoch 28/100\n",
            "240/240 [==============================] - 0s 1ms/step - loss: 200861.7188\n",
            "Epoch 29/100\n",
            "240/240 [==============================] - 0s 1ms/step - loss: 200647.3438\n",
            "Epoch 30/100\n",
            "240/240 [==============================] - 0s 1ms/step - loss: 200433.0938\n",
            "Epoch 31/100\n",
            "240/240 [==============================] - 0s 1ms/step - loss: 200218.9688\n",
            "Epoch 32/100\n",
            "240/240 [==============================] - 0s 1ms/step - loss: 200004.7812\n",
            "Epoch 33/100\n",
            "240/240 [==============================] - 0s 1ms/step - loss: 199790.8594\n",
            "Epoch 34/100\n",
            "240/240 [==============================] - 0s 1ms/step - loss: 199576.9844\n",
            "Epoch 35/100\n",
            "240/240 [==============================] - 0s 1ms/step - loss: 199363.2344\n",
            "Epoch 36/100\n",
            "240/240 [==============================] - 0s 1ms/step - loss: 199149.6250\n",
            "Epoch 37/100\n",
            "240/240 [==============================] - 0s 1ms/step - loss: 198936.1250\n",
            "Epoch 38/100\n",
            "240/240 [==============================] - 0s 1ms/step - loss: 198722.6562\n",
            "Epoch 39/100\n",
            "240/240 [==============================] - 0s 1ms/step - loss: 198509.4375\n",
            "Epoch 40/100\n",
            "240/240 [==============================] - 0s 1ms/step - loss: 198296.2969\n",
            "Epoch 41/100\n",
            "240/240 [==============================] - 0s 1ms/step - loss: 198083.2500\n",
            "Epoch 42/100\n",
            "240/240 [==============================] - 0s 994us/step - loss: 197870.2031\n",
            "Epoch 43/100\n",
            "240/240 [==============================] - 0s 1ms/step - loss: 197657.4531\n",
            "Epoch 44/100\n",
            "240/240 [==============================] - 0s 1ms/step - loss: 197444.7500\n",
            "Epoch 45/100\n",
            "240/240 [==============================] - 0s 1ms/step - loss: 197232.1562\n",
            "Epoch 46/100\n",
            "240/240 [==============================] - 0s 1ms/step - loss: 197019.7500\n",
            "Epoch 47/100\n",
            "240/240 [==============================] - 0s 1ms/step - loss: 196807.2656\n",
            "Epoch 48/100\n",
            "240/240 [==============================] - 0s 1ms/step - loss: 196595.1094\n",
            "Epoch 49/100\n",
            "240/240 [==============================] - 0s 1ms/step - loss: 196382.9688\n",
            "Epoch 50/100\n",
            "240/240 [==============================] - 0s 1ms/step - loss: 196170.9219\n",
            "Epoch 51/100\n",
            "240/240 [==============================] - 0s 1ms/step - loss: 195959.0469\n",
            "Epoch 52/100\n",
            "240/240 [==============================] - 0s 1ms/step - loss: 195747.1875\n",
            "Epoch 53/100\n",
            "240/240 [==============================] - 0s 1ms/step - loss: 195535.4844\n",
            "Epoch 54/100\n",
            "240/240 [==============================] - 0s 1ms/step - loss: 195324.0156\n",
            "Epoch 55/100\n",
            "240/240 [==============================] - 0s 1ms/step - loss: 195112.5156\n",
            "Epoch 56/100\n",
            "240/240 [==============================] - 0s 1ms/step - loss: 194901.1875\n",
            "Epoch 57/100\n",
            "240/240 [==============================] - 0s 1ms/step - loss: 194689.9531\n",
            "Epoch 58/100\n",
            "240/240 [==============================] - 0s 998us/step - loss: 194478.8906\n",
            "Epoch 59/100\n",
            "240/240 [==============================] - 0s 1ms/step - loss: 194267.8438\n",
            "Epoch 60/100\n",
            "240/240 [==============================] - 0s 1ms/step - loss: 194056.9531\n",
            "Epoch 61/100\n",
            "240/240 [==============================] - 0s 1ms/step - loss: 193846.2656\n",
            "Epoch 62/100\n",
            "240/240 [==============================] - 0s 1ms/step - loss: 193635.6250\n",
            "Epoch 63/100\n",
            "240/240 [==============================] - 0s 1ms/step - loss: 193425.0938\n",
            "Epoch 64/100\n",
            "240/240 [==============================] - 0s 1ms/step - loss: 193214.7500\n",
            "Epoch 65/100\n",
            "240/240 [==============================] - 0s 1ms/step - loss: 193004.3906\n",
            "Epoch 66/100\n",
            "240/240 [==============================] - 0s 1ms/step - loss: 192794.2344\n",
            "Epoch 67/100\n",
            "240/240 [==============================] - 0s 1ms/step - loss: 192584.1719\n",
            "Epoch 68/100\n",
            "240/240 [==============================] - 0s 1ms/step - loss: 192374.2188\n",
            "Epoch 69/100\n",
            "240/240 [==============================] - 0s 1ms/step - loss: 192164.3594\n",
            "Epoch 70/100\n",
            "240/240 [==============================] - 0s 1ms/step - loss: 191954.6094\n",
            "Epoch 71/100\n",
            "240/240 [==============================] - 0s 1ms/step - loss: 191745.0000\n",
            "Epoch 72/100\n",
            "240/240 [==============================] - 0s 1ms/step - loss: 191535.5000\n",
            "Epoch 73/100\n",
            "240/240 [==============================] - 0s 1ms/step - loss: 191326.1875\n",
            "Epoch 74/100\n",
            "240/240 [==============================] - 0s 1ms/step - loss: 191116.9062\n",
            "Epoch 75/100\n",
            "240/240 [==============================] - 0s 1ms/step - loss: 190907.7969\n",
            "Epoch 76/100\n",
            "240/240 [==============================] - 0s 1ms/step - loss: 190698.7656\n",
            "Epoch 77/100\n",
            "240/240 [==============================] - 0s 1ms/step - loss: 190489.7812\n",
            "Epoch 78/100\n",
            "240/240 [==============================] - 0s 1ms/step - loss: 190281.0000\n",
            "Epoch 79/100\n",
            "240/240 [==============================] - 0s 1ms/step - loss: 190072.3281\n",
            "Epoch 80/100\n",
            "240/240 [==============================] - 0s 1ms/step - loss: 189863.7500\n",
            "Epoch 81/100\n",
            "240/240 [==============================] - 0s 1ms/step - loss: 189655.2188\n",
            "Epoch 82/100\n",
            "240/240 [==============================] - 0s 1ms/step - loss: 189446.8906\n",
            "Epoch 83/100\n",
            "240/240 [==============================] - 0s 1ms/step - loss: 189238.7969\n",
            "Epoch 84/100\n",
            "240/240 [==============================] - 0s 1ms/step - loss: 189030.5781\n",
            "Epoch 85/100\n",
            "240/240 [==============================] - 0s 1ms/step - loss: 188822.5469\n",
            "Epoch 86/100\n",
            "240/240 [==============================] - 0s 1ms/step - loss: 188614.7656\n",
            "Epoch 87/100\n",
            "240/240 [==============================] - 0s 1ms/step - loss: 188407.0000\n",
            "Epoch 88/100\n",
            "240/240 [==============================] - 0s 1ms/step - loss: 188199.3281\n",
            "Epoch 89/100\n",
            "240/240 [==============================] - 0s 1ms/step - loss: 187991.9219\n",
            "Epoch 90/100\n",
            "240/240 [==============================] - 0s 1ms/step - loss: 187784.3750\n",
            "Epoch 91/100\n",
            "240/240 [==============================] - 0s 1ms/step - loss: 187577.0938\n",
            "Epoch 92/100\n",
            "240/240 [==============================] - 0s 1ms/step - loss: 187369.8594\n",
            "Epoch 93/100\n",
            "240/240 [==============================] - 0s 1ms/step - loss: 187162.8438\n",
            "Epoch 94/100\n",
            "240/240 [==============================] - 0s 1ms/step - loss: 186955.8594\n",
            "Epoch 95/100\n",
            "240/240 [==============================] - 0s 1ms/step - loss: 186748.9531\n",
            "Epoch 96/100\n",
            "240/240 [==============================] - 0s 1ms/step - loss: 186542.3281\n",
            "Epoch 97/100\n",
            "240/240 [==============================] - 0s 1ms/step - loss: 186335.6875\n",
            "Epoch 98/100\n",
            "240/240 [==============================] - 0s 1ms/step - loss: 186129.2031\n",
            "Epoch 99/100\n",
            "240/240 [==============================] - 0s 1ms/step - loss: 185922.7969\n",
            "Epoch 100/100\n",
            "240/240 [==============================] - 0s 1ms/step - loss: 185716.4375\n"
          ]
        },
        {
          "output_type": "execute_result",
          "data": {
            "text/plain": [
              "<keras.callbacks.History at 0x7ff17df05410>"
            ]
          },
          "metadata": {},
          "execution_count": 11
        }
      ]
    },
    {
      "cell_type": "markdown",
      "metadata": {
        "id": "0H0zKKNEBLD5"
      },
      "source": [
        "### Predicting the results of the Test set"
      ]
    },
    {
      "cell_type": "code",
      "metadata": {
        "colab": {
          "base_uri": "https://localhost:8080/"
        },
        "id": "Z7DNmBz1CzTZ",
        "outputId": "441dabb4-49ce-4247-b5c5-975fb02c1866"
      },
      "source": [
        "y_pred = ann.predict(X_test)\n",
        "np.set_printoptions(precision=2)\n",
        "print(np.concatenate((y_pred.reshape(len(y_pred),1), y_test.reshape(len(y_test),1)),1))"
      ],
      "execution_count": null,
      "outputs": [
        {
          "output_type": "stream",
          "name": "stdout",
          "text": [
            "[[ 23.81 431.23]\n",
            " [ 23.81 460.01]\n",
            " [ 23.81 461.14]\n",
            " ...\n",
            " [ 23.81 473.26]\n",
            " [ 23.81 438.  ]\n",
            " [ 23.81 463.28]]\n"
          ]
        }
      ]
    }
  ]
}